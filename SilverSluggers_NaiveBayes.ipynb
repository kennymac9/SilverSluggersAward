{
 "cells": [
  {
   "cell_type": "code",
   "execution_count": 11,
   "metadata": {},
   "outputs": [],
   "source": [
    "import pandas as pd\n",
    "import numpy as np\n",
    "from sklearn.naive_bayes import GaussianNB\n",
    "from sklearn import preprocessing"
   ]
  },
  {
   "cell_type": "code",
   "execution_count": 12,
   "metadata": {},
   "outputs": [],
   "source": [
    "def make_prediction(train_data, test_data, position, league):\n",
    "    train_features = [ \"R\", \"HR\", \"RBI\", \"AVG\", \"OPS\"]\n",
    "    test_features = [\"runsPredicted\", \"HRsPredicted\", \"RBIsPredicted\", \"AVGPredicted\", \"opsPredicted\"]\n",
    "\n",
    "    train_data_league = train_data[train_data[\"League\"] == league]\n",
    "    test_data_league = test_data[test_data[\"League\"] == league]\n",
    "    train_data_position = train_data_league[train_data_league[\"Position\"] == position]\n",
    "    test_data_position = test_data_league[test_data_league[\"Position\"] == position]\n",
    "\n",
    "    gnb = GaussianNB()\n",
    "\n",
    "    gnb.fit(train_data_position[train_features].values, train_data_position[\"SS\"])\n",
    "\n",
    "    pred = gnb.predict_proba(test_data_position[test_features])\n",
    "\n",
    "    max_prob = 0\n",
    "    for i in range(len(pred)):\n",
    "        if (pred[i][1]) > max_prob:\n",
    "            max_prob = pred[i][1]\n",
    "            player = test_data_position.iloc[i, 0]\n",
    "\n",
    "    return player"
   ]
  },
  {
   "cell_type": "code",
   "execution_count": 13,
   "metadata": {},
   "outputs": [],
   "source": [
    "def make_prediction_OF(train_data, test_data, position, league):\n",
    "    train_features = [\"R\", \"HR\", \"RBI\", \"AVG\", \"OPS\"]\n",
    "    test_features = [\"runsPredicted\", \"HRsPredicted\", \"RBIsPredicted\", \"AVGPredicted\", \"opsPredicted\"]\n",
    "\n",
    "    train_data_league = train_data[train_data[\"League\"] == league]\n",
    "    test_data_league = test_data[test_data[\"League\"] == league]\n",
    "    train_data_position = train_data_league[train_data_league[\"Position\"] == position]\n",
    "    test_data_position = test_data_league[test_data_league[\"Position\"] == position]\n",
    "\n",
    "    gnb = GaussianNB()\n",
    "\n",
    "    gnb.fit(train_data_position[train_features].values, train_data_position[\"SS\"])\n",
    "\n",
    "    pred = gnb.predict_proba(test_data_position[test_features])\n",
    "\n",
    "    max_prob = 0\n",
    "    for i in range(len(pred)):\n",
    "        if (pred[i][1]) > max_prob:\n",
    "            max_prob = pred[i][1]\n",
    "            player1 = test_data_position.iloc[i, 0]\n",
    "    max_prob = 0\n",
    "    for i in range(len(pred)):\n",
    "        if (pred[i][1]) > max_prob and test_data_position.iloc[i, 0] != player1:\n",
    "            max_prob = pred[i][1]\n",
    "            player2 = test_data_position.iloc[i, 0]\n",
    "    max_prob = 0\n",
    "    for i in range(len(pred)):\n",
    "        if (pred[i][1]) > max_prob and test_data_position.iloc[i, 0] != player1 and test_data_position.iloc[i, 0] != player2:\n",
    "            max_prob = pred[i][1]\n",
    "            player3 = test_data_position.iloc[i, 0]\n",
    "\n",
    "    return player1, player2, player3"
   ]
  },
  {
   "cell_type": "code",
   "execution_count": 18,
   "metadata": {},
   "outputs": [],
   "source": [
    "train_data = pd.read_csv(\"SilverSluggers_Training.csv\")\n",
    "test_data = pd.read_csv(\"2019PredictionsAndActual.csv\")"
   ]
  },
  {
   "cell_type": "code",
   "execution_count": 19,
   "metadata": {},
   "outputs": [],
   "source": [
    "player_c_al = make_prediction(train_data, test_data, \"C\", \"AL\")\n",
    "player_c_nl = make_prediction(train_data, test_data, \"C\", \"NL\")\n",
    "player_1b_al = make_prediction(train_data, test_data, \"1B\", \"AL\")\n",
    "player_1b_nl = make_prediction(train_data, test_data, \"1B\", \"NL\")\n",
    "player_2b_al = make_prediction(train_data, test_data, \"2B\", \"AL\")\n",
    "player_2b_nl = make_prediction(train_data, test_data, \"2B\", \"NL\")\n",
    "player_3b_al = make_prediction(train_data, test_data, \"3B\", \"AL\")\n",
    "player_3b_nl = make_prediction(train_data, test_data, \"3B\", \"NL\")\n",
    "player_ss_al = make_prediction(train_data, test_data, \"SS\", \"AL\")\n",
    "player_ss_nl = make_prediction(train_data, test_data, \"SS\", \"NL\")\n",
    "player_of1_al, player_of2_al, player_of3_al = make_prediction_OF(train_data, test_data, \"OF\", \"AL\")\n",
    "player_of1_nl, player_of2_nl, player_of3_nl = make_prediction_OF(train_data, test_data, \"OF\", \"NL\")\n",
    "player_dh_al = make_prediction(train_data, test_data, \"DH\", \"AL\")\n",
    "#player_p_nl = make_prediction(train_data, test_data, \"P\", \"NL\")"
   ]
  },
  {
   "cell_type": "code",
   "execution_count": 20,
   "metadata": {},
   "outputs": [
    {
     "name": "stdout",
     "output_type": "stream",
     "text": [
      "C\n",
      "AL: Gary Sanchez\n",
      "NL: J.T. Realmuto\n",
      "1B\n",
      "AL: Jose Abreu\n",
      "NL: Paul Goldschmidt\n",
      "2B\n",
      "AL: Jose Altuve\n",
      "NL: Max Muncy\n",
      "3B\n",
      "AL: Jose Ramirez\n",
      "NL: Nolan Arenado\n",
      "SS\n",
      "AL: Francisco Lindor\n",
      "NL: Trevor Story\n",
      "OF\n",
      "AL: Mike Trout, Mookie Betts, Aaron Judge\n",
      "NL: Christian Yelich, Charlie Blackmon, Bryce Harper\n",
      "DH\n",
      "AL: J.D. Martinez\n"
     ]
    }
   ],
   "source": [
    "print('C')\n",
    "print('AL: ' + player_c_al)\n",
    "print('NL: ' + player_c_nl)\n",
    "print('1B')\n",
    "print('AL: ' + player_1b_al)\n",
    "print('NL: ' + player_1b_nl)\n",
    "print('2B')\n",
    "print('AL: ' + player_2b_al)\n",
    "print('NL: ' + player_2b_nl)\n",
    "print('3B')\n",
    "print('AL: ' + player_3b_al)\n",
    "print('NL: ' + player_3b_nl)\n",
    "print('SS')\n",
    "print('AL: ' + player_ss_al)\n",
    "print('NL: ' + player_ss_nl)\n",
    "print('OF')\n",
    "print('AL: ' + player_of1_al + ', ' + player_of2_al + ', ' + player_of3_al)\n",
    "print('NL: ' + player_of1_nl + ', ' + player_of2_nl + ', ' + player_of3_nl)\n",
    "print('DH')\n",
    "print('AL: ' + player_dh_al)\n",
    "#print('P')\n",
    "#print('NL: ' + player_p_nl)"
   ]
  },
  {
   "cell_type": "code",
   "execution_count": null,
   "metadata": {},
   "outputs": [],
   "source": []
  }
 ],
 "metadata": {
  "kernelspec": {
   "display_name": "Python 3",
   "language": "python",
   "name": "python3"
  },
  "language_info": {
   "codemirror_mode": {
    "name": "ipython",
    "version": 3
   },
   "file_extension": ".py",
   "mimetype": "text/x-python",
   "name": "python",
   "nbconvert_exporter": "python",
   "pygments_lexer": "ipython3",
   "version": "3.6.7"
  }
 },
 "nbformat": 4,
 "nbformat_minor": 2
}
